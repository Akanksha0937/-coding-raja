{
  "nbformat": 4,
  "nbformat_minor": 0,
  "metadata": {
    "colab": {
      "provenance": [],
      "authorship_tag": "ABX9TyP/fNii4EBf3LsyMgzOkBb3",
      "include_colab_link": true
    },
    "kernelspec": {
      "name": "python3",
      "display_name": "Python 3"
    },
    "language_info": {
      "name": "python"
    }
  },
  "cells": [
    {
      "cell_type": "markdown",
      "metadata": {
        "id": "view-in-github",
        "colab_type": "text"
      },
      "source": [
        "<a href=\"https://colab.research.google.com/github/Akanksha0937/-coding-raja/blob/main/Task_2.ipynb\" target=\"_parent\"><img src=\"https://colab.research.google.com/assets/colab-badge.svg\" alt=\"Open In Colab\"/></a>"
      ]
    },
    {
      "cell_type": "code",
      "execution_count": null,
      "metadata": {
        "colab": {
          "base_uri": "https://localhost:8080/"
        },
        "id": "BQq72yEeWMSO",
        "outputId": "1e948d1b-5aad-4942-e02d-07ae7e899f93"
      },
      "outputs": [
        {
          "metadata": {
            "tags": null
          },
          "name": "stdout",
          "output_type": "stream",
          "text": [
            "Budget Tracker Menu:\n",
            "1. Add Income\n",
            "2. Add Expense\n",
            "3. View Expenses\n",
            "4. View Remaining Budget\n",
            "5. Save and Quit\n",
            "Invalid choice. Please try again.\n",
            "Budget Tracker Menu:\n",
            "1. Add Income\n",
            "2. Add Expense\n",
            "3. View Expenses\n",
            "4. View Remaining Budget\n",
            "5. Save and Quit\n"
          ]
        }
      ],
      "source": [
        "import pickle\n",
        "income = 0\n",
        "expenses = []\n",
        "categories = {}\n",
        "\n",
        "def main():\n",
        "    load_data()\n",
        "    while True:\n",
        "        print(\"Budget Tracker Menu:\")\n",
        "        print(\"1. Add Income\")\n",
        "        print(\"2. Add Expense\")\n",
        "        print(\"3. View Expenses\")\n",
        "        print(\"4. View Remaining Budget\")\n",
        "        print(\"5. Save and Quit\")\n",
        "        choice = input(\"Enter your choice: \")\n",
        "        if choice == \"1\":\n",
        "            add_income()\n",
        "        elif choice == \"2\":\n",
        "            add_expense()\n",
        "        elif choice == \"3\":\n",
        "            view_expenses()\n",
        "        elif choice == \"4\":\n",
        "            view_budget()\n",
        "        elif choice == \"5\":\n",
        "            save_data()\n",
        "            break\n",
        "        else:\n",
        "            print(\"Invalid choice. Please try again.\")\n",
        "\n",
        "def add_income():\n",
        "    global income\n",
        "    amount = float(input(\"Enter income amount: \"))\n",
        "    income += amount\n",
        "\n",
        "def add_expense():\n",
        "    global income\n",
        "    global expenses\n",
        "    global categories\n",
        "    category = input(\"Enter expense category: \")\n",
        "    amount = float(input(\"Enter expense amount: \"))\n",
        "    expenses.append((category, amount))\n",
        "    income -= amount\n",
        "    categories[category] = categories.get(category, 0) + amount\n",
        "\n",
        "def view_expenses():\n",
        "    global expenses\n",
        "    for category, amount in expenses:\n",
        "        print(f\"Category: {category}, Amount: {amount}\")\n",
        "\n",
        "def view_budget():\n",
        "    global income\n",
        "    global expenses\n",
        "    remaining_budget = income - sum(amount for _, amount in expenses)\n",
        "    print(f\"Remaining Budget: {remaining_budget}\")\n",
        "\n",
        "def save_data():\n",
        "    global income\n",
        "    global expenses\n",
        "    global categories\n",
        "    data = {\n",
        "        \"income\": income,\n",
        "        \"expenses\": expenses,\n",
        "        \"categories\": categories,\n",
        "    }\n",
        "    with open(\"budget_data.pkl\", \"wb\") as file:\n",
        "        pickle.dump(data, file)\n",
        "\n",
        "def load_data():\n",
        "    global income\n",
        "    global expenses\n",
        "    global categories\n",
        "    try:\n",
        "        with open(\"budget_data.pkl\", \"rb\") as file:\n",
        "            data = pickle.load(file)\n",
        "            income = data[\"income\"]\n",
        "            expenses = data[\"expenses\"]\n",
        "            categories = data[\"categories\"]\n",
        "    except FileNotFoundError:\n",
        "        pass\n",
        "\n",
        "if __name__ == \"__main__\":\n",
        "    main()"
      ]
    },
    {
      "cell_type": "code",
      "source": [],
      "metadata": {
        "id": "W-XkpYr8aHQV"
      },
      "execution_count": null,
      "outputs": []
    }
  ]
}